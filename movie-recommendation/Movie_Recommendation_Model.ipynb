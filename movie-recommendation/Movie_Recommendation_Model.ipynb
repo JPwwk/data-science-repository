{
 "cells": [
  {
   "cell_type": "markdown",
   "id": "672d9f1d-5509-487b-9f19-e5067519f2c7",
   "metadata": {},
   "source": [
    "# DCS630\n",
    "# Exercise 10.2\n",
    "# Justin Pizzoferrato\n",
    "# 5.17.25"
   ]
  },
  {
   "cell_type": "code",
   "execution_count": 29,
   "id": "ffb70df4-0bc1-4280-b6ae-d77bd7e2bcb3",
   "metadata": {},
   "outputs": [
    {
     "data": {
      "text/html": [
       "\n",
       "    <style>\n",
       "        div.output_area pre {\n",
       "            white-space: pre-wrap;\n",
       "            word-wrap: break-word;\n",
       "        }\n",
       "        .code_cell .input_area {\n",
       "            white-space: pre-wrap;\n",
       "        }\n",
       "    </style>\n"
      ],
      "text/plain": [
       "<IPython.core.display.HTML object>"
      ]
     },
     "metadata": {},
     "output_type": "display_data"
    }
   ],
   "source": [
    "from IPython.display import display, HTML\n",
    "\n",
    "# Enable word wrap in all code cells (for PDF export or readability)\n",
    "display(HTML('''\n",
    "    <style>\n",
    "        div.output_area pre {\n",
    "            white-space: pre-wrap;\n",
    "            word-wrap: break-word;\n",
    "        }\n",
    "        .code_cell .input_area {\n",
    "            white-space: pre-wrap;\n",
    "        }\n",
    "    </style>\n",
    "'''))"
   ]
  },
  {
   "cell_type": "code",
   "execution_count": 31,
   "id": "6a9e695b-6e0b-425a-80ef-80f05a272ab5",
   "metadata": {},
   "outputs": [
    {
     "name": "stdout",
     "output_type": "stream",
     "text": [
      "Movies Dataset:\n",
      "   movieId                               title  \\\n",
      "0        1                    Toy Story (1995)   \n",
      "1        2                      Jumanji (1995)   \n",
      "2        3             Grumpier Old Men (1995)   \n",
      "3        4            Waiting to Exhale (1995)   \n",
      "4        5  Father of the Bride Part II (1995)   \n",
      "\n",
      "                                        genres  \n",
      "0  Adventure|Animation|Children|Comedy|Fantasy  \n",
      "1                   Adventure|Children|Fantasy  \n",
      "2                               Comedy|Romance  \n",
      "3                         Comedy|Drama|Romance  \n",
      "4                                       Comedy  \n",
      "\n",
      "Ratings Dataset:\n",
      "   userId  movieId  rating  timestamp\n",
      "0       1        1     4.0  964982703\n",
      "1       1        3     4.0  964981247\n",
      "2       1        6     4.0  964982224\n",
      "3       1       47     5.0  964983815\n",
      "4       1       50     5.0  964982931\n"
     ]
    }
   ],
   "source": [
    "# Import required libraries and load the MovieLens data\n",
    "\n",
    "import pandas as pd\n",
    "\n",
    "# Define paths to the ratings and movies files\n",
    "movies_path = '/Users/justinpizzoferrato/Downloads/ml-latest-small/movies.csv'\n",
    "ratings_path = '/Users/justinpizzoferrato/Downloads/ml-latest-small/ratings.csv'\n",
    "\n",
    "# Load the movies and ratings data into pandas DataFrames\n",
    "movies_df = pd.read_csv(movies_path)\n",
    "ratings_df = pd.read_csv(ratings_path)\n",
    "\n",
    "# Preview the first few rows of each DataFrame to confirm successful load\n",
    "print(\"Movies Dataset:\")\n",
    "print(movies_df.head())\n",
    "\n",
    "print(\"\\nRatings Dataset:\")\n",
    "print(ratings_df.head())"
   ]
  },
  {
   "cell_type": "code",
   "execution_count": 33,
   "id": "b78d64fc-864f-48a0-9f42-95bc82168e05",
   "metadata": {},
   "outputs": [
    {
     "name": "stdout",
     "output_type": "stream",
     "text": [
      "Merged Dataset:\n",
      "   userId  movieId  rating  timestamp                        title  \\\n",
      "0       1        1     4.0  964982703             Toy Story (1995)   \n",
      "1       1        3     4.0  964981247      Grumpier Old Men (1995)   \n",
      "2       1        6     4.0  964982224                  Heat (1995)   \n",
      "3       1       47     5.0  964983815  Seven (a.k.a. Se7en) (1995)   \n",
      "4       1       50     5.0  964982931   Usual Suspects, The (1995)   \n",
      "\n",
      "                                        genres  \n",
      "0  Adventure|Animation|Children|Comedy|Fantasy  \n",
      "1                               Comedy|Romance  \n",
      "2                        Action|Crime|Thriller  \n",
      "3                             Mystery|Thriller  \n",
      "4                       Crime|Mystery|Thriller  \n",
      "\n",
      "Missing values:\n",
      "userId       0\n",
      "movieId      0\n",
      "rating       0\n",
      "timestamp    0\n",
      "title        0\n",
      "genres       0\n",
      "dtype: int64\n"
     ]
    }
   ],
   "source": [
    "# Merge movies and ratings DataFrames on 'movieId'\n",
    "\n",
    "# Merge the ratings with movie titles using 'movieId' as key\n",
    "merged_df = pd.merge(ratings_df, movies_df, on='movieId')\n",
    "\n",
    "# Display the merged dataset to confirm structure\n",
    "print(\"Merged Dataset:\")\n",
    "print(merged_df.head())\n",
    "\n",
    "# Check for missing values in the merged dataset\n",
    "print(\"\\nMissing values:\")\n",
    "print(merged_df.isnull().sum())"
   ]
  },
  {
   "cell_type": "code",
   "execution_count": 53,
   "id": "b6aba404-bf04-4bd8-b103-9f2631a18adf",
   "metadata": {},
   "outputs": [
    {
     "name": "stdout",
     "output_type": "stream",
     "text": [
      "User-Movie Ratings Matrix Shape: (610, 9719)\n"
     ]
    },
    {
     "data": {
      "text/html": [
       "<div>\n",
       "<style scoped>\n",
       "    .dataframe tbody tr th:only-of-type {\n",
       "        vertical-align: middle;\n",
       "    }\n",
       "\n",
       "    .dataframe tbody tr th {\n",
       "        vertical-align: top;\n",
       "    }\n",
       "\n",
       "    .dataframe thead th {\n",
       "        text-align: right;\n",
       "    }\n",
       "</style>\n",
       "<table border=\"1\" class=\"dataframe\">\n",
       "  <thead>\n",
       "    <tr style=\"text-align: right;\">\n",
       "      <th>title</th>\n",
       "      <th>'71 (2014)</th>\n",
       "      <th>'Hellboy': The Seeds of Creation (2004)</th>\n",
       "      <th>'Round Midnight (1986)</th>\n",
       "      <th>'Salem's Lot (2004)</th>\n",
       "      <th>'Til There Was You (1997)</th>\n",
       "      <th>'Tis the Season for Love (2015)</th>\n",
       "      <th>'burbs, The (1989)</th>\n",
       "      <th>'night Mother (1986)</th>\n",
       "      <th>(500) Days of Summer (2009)</th>\n",
       "      <th>*batteries not included (1987)</th>\n",
       "    </tr>\n",
       "    <tr>\n",
       "      <th>userId</th>\n",
       "      <th></th>\n",
       "      <th></th>\n",
       "      <th></th>\n",
       "      <th></th>\n",
       "      <th></th>\n",
       "      <th></th>\n",
       "      <th></th>\n",
       "      <th></th>\n",
       "      <th></th>\n",
       "      <th></th>\n",
       "    </tr>\n",
       "  </thead>\n",
       "  <tbody>\n",
       "    <tr>\n",
       "      <th>1</th>\n",
       "      <td>NaN</td>\n",
       "      <td>NaN</td>\n",
       "      <td>NaN</td>\n",
       "      <td>NaN</td>\n",
       "      <td>NaN</td>\n",
       "      <td>NaN</td>\n",
       "      <td>NaN</td>\n",
       "      <td>NaN</td>\n",
       "      <td>NaN</td>\n",
       "      <td>NaN</td>\n",
       "    </tr>\n",
       "    <tr>\n",
       "      <th>2</th>\n",
       "      <td>NaN</td>\n",
       "      <td>NaN</td>\n",
       "      <td>NaN</td>\n",
       "      <td>NaN</td>\n",
       "      <td>NaN</td>\n",
       "      <td>NaN</td>\n",
       "      <td>NaN</td>\n",
       "      <td>NaN</td>\n",
       "      <td>NaN</td>\n",
       "      <td>NaN</td>\n",
       "    </tr>\n",
       "    <tr>\n",
       "      <th>3</th>\n",
       "      <td>NaN</td>\n",
       "      <td>NaN</td>\n",
       "      <td>NaN</td>\n",
       "      <td>NaN</td>\n",
       "      <td>NaN</td>\n",
       "      <td>NaN</td>\n",
       "      <td>NaN</td>\n",
       "      <td>NaN</td>\n",
       "      <td>NaN</td>\n",
       "      <td>NaN</td>\n",
       "    </tr>\n",
       "    <tr>\n",
       "      <th>4</th>\n",
       "      <td>NaN</td>\n",
       "      <td>NaN</td>\n",
       "      <td>NaN</td>\n",
       "      <td>NaN</td>\n",
       "      <td>NaN</td>\n",
       "      <td>NaN</td>\n",
       "      <td>NaN</td>\n",
       "      <td>NaN</td>\n",
       "      <td>NaN</td>\n",
       "      <td>NaN</td>\n",
       "    </tr>\n",
       "    <tr>\n",
       "      <th>5</th>\n",
       "      <td>NaN</td>\n",
       "      <td>NaN</td>\n",
       "      <td>NaN</td>\n",
       "      <td>NaN</td>\n",
       "      <td>NaN</td>\n",
       "      <td>NaN</td>\n",
       "      <td>NaN</td>\n",
       "      <td>NaN</td>\n",
       "      <td>NaN</td>\n",
       "      <td>NaN</td>\n",
       "    </tr>\n",
       "  </tbody>\n",
       "</table>\n",
       "</div>"
      ],
      "text/plain": [
       "title   '71 (2014)  'Hellboy': The Seeds of Creation (2004)  \\\n",
       "userId                                                        \n",
       "1              NaN                                      NaN   \n",
       "2              NaN                                      NaN   \n",
       "3              NaN                                      NaN   \n",
       "4              NaN                                      NaN   \n",
       "5              NaN                                      NaN   \n",
       "\n",
       "title   'Round Midnight (1986)  'Salem's Lot (2004)  \\\n",
       "userId                                                \n",
       "1                          NaN                  NaN   \n",
       "2                          NaN                  NaN   \n",
       "3                          NaN                  NaN   \n",
       "4                          NaN                  NaN   \n",
       "5                          NaN                  NaN   \n",
       "\n",
       "title   'Til There Was You (1997)  'Tis the Season for Love (2015)  \\\n",
       "userId                                                               \n",
       "1                             NaN                              NaN   \n",
       "2                             NaN                              NaN   \n",
       "3                             NaN                              NaN   \n",
       "4                             NaN                              NaN   \n",
       "5                             NaN                              NaN   \n",
       "\n",
       "title   'burbs, The (1989)  'night Mother (1986)  (500) Days of Summer (2009)  \\\n",
       "userId                                                                          \n",
       "1                      NaN                   NaN                          NaN   \n",
       "2                      NaN                   NaN                          NaN   \n",
       "3                      NaN                   NaN                          NaN   \n",
       "4                      NaN                   NaN                          NaN   \n",
       "5                      NaN                   NaN                          NaN   \n",
       "\n",
       "title   *batteries not included (1987)  \n",
       "userId                                  \n",
       "1                                  NaN  \n",
       "2                                  NaN  \n",
       "3                                  NaN  \n",
       "4                                  NaN  \n",
       "5                                  NaN  "
      ]
     },
     "execution_count": 53,
     "metadata": {},
     "output_type": "execute_result"
    }
   ],
   "source": [
    "# Create a user-movie ratings matrix\n",
    "\n",
    "# Create the pivot table with users as rows and movie titles as columns\n",
    "ratings_matrix = merged_df.pivot_table(index='userId',\n",
    "                                       columns='title',\n",
    "                                       values='rating')\n",
    "\n",
    "# Display the shape and a sample of the matrix\n",
    "print(f\"User-Movie Ratings Matrix Shape: {ratings_matrix.shape}\")\n",
    "\n",
    "# Only display first 10 columns to avoid overflow when exporting\n",
    "ratings_matrix.iloc[:, :10].head()"
   ]
  },
  {
   "cell_type": "code",
   "execution_count": 37,
   "id": "7cd557af-fc82-44a6-9074-dbf41fc4c0d8",
   "metadata": {},
   "outputs": [
    {
     "name": "stdout",
     "output_type": "stream",
     "text": [
      "Top 5 movies similar to 'Toy Story (1995)':\n",
      "title\n",
      "Toy Story 2 (1999)                           0.572601\n",
      "Jurassic Park (1993)                         0.565637\n",
      "Independence Day (a.k.a. ID4) (1996)         0.564262\n",
      "Star Wars: Episode IV - A New Hope (1977)    0.557388\n",
      "Forrest Gump (1994)                          0.547096\n",
      "Name: Toy Story (1995), dtype: float64\n"
     ]
    }
   ],
   "source": [
    "# Create a function to recommend similar movies based on cosine similarity\n",
    "\n",
    "from sklearn.metrics.pairwise import cosine_similarity\n",
    "import numpy as np\n",
    "\n",
    "# Fill missing values with 0 to prepare for cosine similarity\n",
    "ratings_matrix_filled = ratings_matrix.fillna(0)\n",
    "\n",
    "# Compute cosine similarity between movie columns (transpose to align movies as rows)\n",
    "movie_similarity = cosine_similarity(ratings_matrix_filled.T)\n",
    "\n",
    "# Create a DataFrame for easier lookup\n",
    "similarity_df = pd.DataFrame(movie_similarity,\n",
    "                             index=ratings_matrix.columns,\n",
    "                             columns=ratings_matrix.columns)\n",
    "\n",
    "# Function to recommend similar movies\n",
    "def recommend_movies(movie_title, top_n=5):\n",
    "    if movie_title not in similarity_df.columns:\n",
    "        return f\"Movie '{movie_title}' not found in dataset.\"\n",
    "    similar_scores = similarity_df[movie_title].sort_values(ascending=False)\n",
    "    return similar_scores[1:top_n+1]\n",
    "\n",
    "# Example usage\n",
    "print(\"Top 5 movies similar to 'Toy Story (1995)':\")\n",
    "print(recommend_movies('Toy Story (1995)'))"
   ]
  },
  {
   "cell_type": "code",
   "execution_count": 38,
   "id": "4814d844-cad7-410b-9099-75e476a85363",
   "metadata": {},
   "outputs": [
    {
     "name": "stdout",
     "output_type": "stream",
     "text": [
      "Sample movie titles in the dataset:\n",
      "[\"Jonah Who Will Be 25 in the Year 2000 (Jonas qui aura 25 ans en l'an 2000) (1976)\"\n",
      " 'Futurama: The Beast with a Billion Backs (2008)' 'Octagon, The (1980)'\n",
      " 'Morning Glory (2010)' 'Letter, The (1940)' 'Arthur (1981)'\n",
      " 'Transporter, The (2002)' 'Boot, Das (Boat, The) (1981)'\n",
      " 'Kill Command (2016)' 'Friends with Benefits (2011)']\n"
     ]
    }
   ],
   "source": [
    "# Display random sample of movie titles to assist the user\n",
    "def show_sample_movies(n=10):\n",
    "    print(\"Sample movie titles in the dataset:\")\n",
    "    print(np.random.choice(ratings_matrix.columns, size=n, replace=False))\n",
    "\n",
    "# Run this anytime\n",
    "show_sample_movies()"
   ]
  },
  {
   "cell_type": "code",
   "execution_count": 51,
   "id": "f957fee3-bbdf-4747-8e77-de57efb03b0d",
   "metadata": {},
   "outputs": [
    {
     "name": "stdin",
     "output_type": "stream",
     "text": [
      "Enter a movie title:  Gremlins\n"
     ]
    },
    {
     "name": "stdout",
     "output_type": "stream",
     "text": [
      "Did you mean: 'Gremlins (1984)'?\n",
      "\n",
      "\n",
      "Top recommended movies based on your input 'Gremlins':\n",
      "title\n",
      "RoboCop (1987)                      0.587486\n",
      "Goonies, The (1985)                 0.542817\n",
      "Lost Boys, The (1987)               0.517656\n",
      "Gremlins 2: The New Batch (1990)    0.505242\n",
      "Fly, The (1986)                     0.505007\n",
      "Name: Gremlins (1984), dtype: float64\n"
     ]
    }
   ],
   "source": [
    "# Enhanced movie recommendation with fuzzy matching\n",
    "\n",
    "from difflib import get_close_matches\n",
    "\n",
    "def recommend_movies_fuzzy(user_input, top_n=5):\n",
    "    # Get the list of movie titles from the similarity DataFrame\n",
    "    all_titles = similarity_df.columns.tolist()\n",
    "    \n",
    "    # Find close matches to the user input (case-insensitive)\n",
    "    matches = get_close_matches(user_input, all_titles, n=1, cutoff=0.6)\n",
    "    \n",
    "    if not matches:\n",
    "        return f\"No close match found for '{user_input}'. Try a different title.\"\n",
    "    \n",
    "    best_match = matches[0]\n",
    "    print(f\"Did you mean: '{best_match}'?\\n\")\n",
    "\n",
    "    # Return top N recommendations for the best-matched title\n",
    "    similar_scores = similarity_df[best_match].sort_values(ascending=False)\n",
    "    return similar_scores[1:top_n+1]\n",
    "\n",
    "# Example usage\n",
    "user_input = input(\"Enter a movie title: \")\n",
    "recommendations = recommend_movies_fuzzy(user_input)\n",
    "print(f\"\\nTop recommended movies based on your input '{user_input}':\")\n",
    "print(recommendations)"
   ]
  },
  {
   "cell_type": "code",
   "execution_count": null,
   "id": "150745b0-2242-4418-8450-c89f7a9968c5",
   "metadata": {},
   "outputs": [],
   "source": []
  }
 ],
 "metadata": {
  "kernelspec": {
   "display_name": "Python 3 (ipykernel)",
   "language": "python",
   "name": "python3"
  },
  "language_info": {
   "codemirror_mode": {
    "name": "ipython",
    "version": 3
   },
   "file_extension": ".py",
   "mimetype": "text/x-python",
   "name": "python",
   "nbconvert_exporter": "python",
   "pygments_lexer": "ipython3",
   "version": "3.12.4"
  }
 },
 "nbformat": 4,
 "nbformat_minor": 5
}
